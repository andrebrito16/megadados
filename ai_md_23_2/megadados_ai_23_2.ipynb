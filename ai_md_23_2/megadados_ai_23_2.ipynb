{
 "cells": [
  {
   "attachments": {},
   "cell_type": "markdown",
   "id": "f62ded59",
   "metadata": {},
   "source": [
    "# AI MEGADADOS 23-2"
   ]
  },
  {
   "attachments": {},
   "cell_type": "markdown",
   "id": "37555db8",
   "metadata": {},
   "source": [
    "**NOME**: André Brito"
   ]
  },
  {
   "attachments": {},
   "cell_type": "markdown",
   "id": "5d8b1109-da36-4646-8a86-84a550902974",
   "metadata": {},
   "source": [
    "## Parte 1 - ClinPag!\n",
    "\n",
    "Na parte 1 da prova de MEGADADOS, iremos trabalhar com a base de dados sintética **clinpag**.\n",
    "\n",
    "### Insper autograding!\n",
    "\n",
    "Para receber feedback dos exercício na parte 1, iremos utilizar o `insper autograding`. Se não fez este passo, abra o notebook da aula 01 e faça!\n",
    "\n",
    "**Sugestão**: para aproveitar o `.env`, crie uma pasta para a prova no mesmo local onde costuma deixar as pastas das **aulas**!\n",
    "\n",
    "### Instalação da base\n",
    "\n",
    "Execute os scripts `clinpag_001.sql` e `clinpag_002.sql` no MySQL Workbench. Estes scripts criam uma base **clinpag** e inserem alguns dados de exemplo para resolução da prova.\n",
    "\n",
    "A base pode ser representada pelo seguinte diagrama do model orelacional (diagrama ER):\n",
    "\n",
    "<img src=\"img/deer_clinpag.png\">"
   ]
  },
  {
   "attachments": {},
   "cell_type": "markdown",
   "id": "3a78b161-637a-41aa-8ca9-a8a75496ecc9",
   "metadata": {},
   "source": [
    "A base da prova simula um cenário de **consultas médicas**. Nela, estão cadastrados **médicos** que atendem diversas **especialidades** em **clínicas**. Assim, os **pacientes** podem agendar **consultas** de determinadas **especialidades** com **médicos** em determinadas **clínicas**.\n",
    "\n",
    "Obs:\n",
    "- Cada paciente tem uma cidade onde reside, mas pode se deslocar para ser atendido.\n",
    "- O médico pode atender mais de uma especialidade em uma clínica.\n",
    "- O médico pode atender em mais de uma clínica diferente, sendo de diferentes especialidades ou não."
   ]
  },
  {
   "attachments": {},
   "cell_type": "markdown",
   "id": "704d1ffd-1b1c-417b-8bc9-64a69162d8b5",
   "metadata": {},
   "source": [
    "## Como resolver os exercícios?\n",
    "\n",
    "Crie a base da prova em sua máquina (passo anterior). Utilize o MySQL Workbench ou o conector para testar as queries. Quando estiver bastante certo de que a resposta está correta, faça a submissão para o servidor.\n",
    "\n",
    "## Import das bibliotecas\n",
    "\n",
    "Vamos realizar o import das bibliotecas."
   ]
  },
  {
   "cell_type": "code",
   "execution_count": 3,
   "id": "db3c9690-aefa-41af-a52d-0a4a3487617d",
   "metadata": {},
   "outputs": [],
   "source": [
    "import mysql.connector\n",
    "from functools import partial\n",
    "import os\n",
    "import insperautograder.jupyter as ia\n",
    "from dotenv import load_dotenv"
   ]
  },
  {
   "attachments": {},
   "cell_type": "markdown",
   "id": "acd2e8d6-9f71-4132-9877-fa53ac94c883",
   "metadata": {},
   "source": [
    "E vamos criar nosso HELPER de conexão com o banco! Perceba que, uma vez configurado o `.env` não precisaremos mais informar usuários, senhas e URLs!"
   ]
  },
  {
   "cell_type": "code",
   "execution_count": 48,
   "id": "d2e356f6-ad06-4afb-bd37-8e01b0155087",
   "metadata": {},
   "outputs": [],
   "source": [
    "load_dotenv(override=True)\n",
    "\n",
    "def get_connection_helper():\n",
    "\n",
    "    def run_db_query(connection, query, args=None):\n",
    "        with connection.cursor() as cursor:\n",
    "            print('Executando query:')\n",
    "            cursor.execute(query, args)\n",
    "            for result in cursor:\n",
    "                print(result)\n",
    "\n",
    "    connection = mysql.connector.connect(\n",
    "        host=os.getenv('MD_DB_SERVER'),\n",
    "        user=os.getenv('MD_DB_USERNAME'),\n",
    "        password=os.getenv('MD_DB_PASSWORD'),\n",
    "        database='clinpag',\n",
    "    )\n",
    "    return connection, partial(run_db_query, connection)\n",
    "\n",
    "\n",
    "connection, db = get_connection_helper()"
   ]
  },
  {
   "attachments": {},
   "cell_type": "markdown",
   "id": "4994ddcd-e75d-4aaa-b363-965b5934958d",
   "metadata": {},
   "source": [
    "### Notas\n",
    "\n",
    "Para conferir a nota da correção automática da prova, utilize:"
   ]
  },
  {
   "cell_type": "code",
   "execution_count": 185,
   "id": "c89d5428-4e4f-4c9f-8a71-34265ee3bd3e",
   "metadata": {},
   "outputs": [
    {
     "data": {
      "text/markdown": [
       "|    | Atividade   | Exercício   |   Peso |   Nota |\n",
       "|---:|:------------|:------------|-------:|-------:|\n",
       "|  0 | ai_md_23_2  | ex00        |      0 |      0 |\n",
       "|  1 | ai_md_23_2  | ex01        |      2 |     10 |\n",
       "|  2 | ai_md_23_2  | ex02        |      3 |     10 |\n",
       "|  3 | ai_md_23_2  | ex03        |      3 |     10 |\n",
       "|  4 | ai_md_23_2  | ex04        |      2 |     10 |\n",
       "|  5 | ai_md_23_2  | ex05        |      3 |     10 |\n",
       "|  6 | ai_md_23_2  | ex06        |      3 |     10 |"
      ],
      "text/plain": [
       "<IPython.core.display.Markdown object>"
      ]
     },
     "metadata": {},
     "output_type": "display_data"
    }
   ],
   "source": [
    "ia.grades(task='ai_md_23_2')"
   ]
  },
  {
   "cell_type": "code",
   "execution_count": 186,
   "id": "fa78980c-494d-4396-b1a1-4b5c3be7ce29",
   "metadata": {},
   "outputs": [
    {
     "data": {
      "text/markdown": [
       "|    | Tarefa     |   Nota |\n",
       "|---:|:-----------|-------:|\n",
       "|  0 | ai_md_23_2 |     10 |"
      ],
      "text/plain": [
       "<IPython.core.display.Markdown object>"
      ]
     },
     "metadata": {},
     "output_type": "display_data"
    }
   ],
   "source": [
    "ia.grades(by='TASK', task='ai_md_23_2')"
   ]
  },
  {
   "attachments": {},
   "cell_type": "markdown",
   "id": "32dbdc17-6aac-42ef-b836-795ac3f47e7f",
   "metadata": {},
   "source": [
    "**Exercício 0**: Este exercício não vale nota, é apenas uma brincadeira para aquecimento! Se não estiver de bom humor, pule!\n",
    "\n",
    "**Pergunta**: Por que o Maciel e Márcio terão que utilizar óculos escuros na segunda parte do curso?"
   ]
  },
  {
   "cell_type": "code",
   "execution_count": 5,
   "id": "6d8374de-6e80-4da2-82a7-01f24ae5899f",
   "metadata": {},
   "outputs": [],
   "source": [
    "resp_00 = \"porque você é muito brilhante! 😎😎😎\""
   ]
  },
  {
   "cell_type": "code",
   "execution_count": null,
   "id": "af4715ba-3da4-4ff6-b177-8dda65af52d4",
   "metadata": {},
   "outputs": [
    {
     "data": {
      "application/vnd.jupyter.widget-view+json": {
       "model_id": "46fdc696ccaf47bfafce6148f88342cd",
       "version_major": 2,
       "version_minor": 0
      },
      "text/plain": [
       "interactive(children=(Button(description='Enviar ex00', style=ButtonStyle()), Output()), _dom_classes=('widget…"
      ]
     },
     "metadata": {},
     "output_type": "display_data"
    }
   ],
   "source": [
    "ia.sender(answer='resp_00', task='ai_md_23_2', question='ex00', answer_type='pyvar')"
   ]
  },
  {
   "attachments": {},
   "cell_type": "markdown",
   "id": "50be139d-1065-4b23-91bb-7edd6a63ace4",
   "metadata": {},
   "source": [
    "**Obs**: Esta parte da avaliação vale **6 pontos** na nota da prova.\n",
    "- 50% da nota será pela correção automática do servidor\n",
    "- 50% da nota será pela correção pelo professor, que levará em consideração, por exemplo:\n",
    "    - Quão distante sua solução ficou de uma solução correta\n",
    "    - Se as queries estão formatadas:\n",
    "        - Padrão de maiúsculas e minúsculas\n",
    "        - Tabulações e quebras de linhas\n",
    "    - Se utiliza *alias* nas tabelas, especialmente em queries com múltiplas tabelas\n",
    "    \n",
    "A nota retornada pelo servidor estará no intervalo `0.0` a `10.0` e será multiplicada por `0.3` para compor os `50%` da correção automática.\n",
    "\n",
    "Ainda, considere que os testes não são exaustivos. Sua solução deve funcionar para qualquer conjunto de dados no *schema* da prova. Tentativas de burlar os testes serão penalizadas."
   ]
  },
  {
   "attachments": {},
   "cell_type": "markdown",
   "id": "1fdb9360-b794-4a51-8ec0-d38a65dc9a7c",
   "metadata": {},
   "source": [
    "**Exercício 1**: Crie uma query que retorne a quantidade de especialidades que possuem a palavra `\"diagnóstico\"` em sua descrição.\n",
    "\n",
    "**Obs**:\n",
    "- A coluna retornada deve se chamar `qt_diag`."
   ]
  },
  {
   "cell_type": "code",
   "execution_count": 11,
   "id": "31b0d652-3a97-437f-a35a-529689f797ea",
   "metadata": {},
   "outputs": [
    {
     "name": "stdout",
     "output_type": "stream",
     "text": [
      "Executando query:\n",
      "(4,)\n"
     ]
    }
   ],
   "source": [
    "sql_ex01 = '''\n",
    "SELECT COUNT(*) as qt_diag FROM especialidade\n",
    " WHERE descricao LIKE \"%diagnóstico%\"\n",
    "'''\n",
    "\n",
    "db(sql_ex01)"
   ]
  },
  {
   "cell_type": "code",
   "execution_count": 10,
   "id": "685e846b-73b5-41fb-8a1d-80d5e6801f3f",
   "metadata": {},
   "outputs": [
    {
     "data": {
      "application/vnd.jupyter.widget-view+json": {
       "model_id": "503911aefbd2452b88e5c20985ffbaae",
       "version_major": 2,
       "version_minor": 0
      },
      "text/plain": [
       "interactive(children=(Button(description='Enviar ex01', style=ButtonStyle()), Output()), _dom_classes=('widget…"
      ]
     },
     "metadata": {},
     "output_type": "display_data"
    }
   ],
   "source": [
    "ia.sender(answer='sql_ex01', task='ai_md_23_2', question='ex01', answer_type='pyvar')"
   ]
  },
  {
   "attachments": {},
   "cell_type": "markdown",
   "id": "ddd61cdb-ec2e-4f76-a609-9112ee7a47b2",
   "metadata": {},
   "source": [
    "**Exercício 2**: Crie uma query que retorne, para cada médico, em quantas clínicas diferentes ele atende ou já atendeu.\n",
    "\n",
    "**Obs**:\n",
    "- Retorne o id, nome e sobrenome de cada médico (nesta ordem).\n",
    "- A coluna de contagem deve ser a última e se chamar `qt_clin`.\n",
    "- Retorne em ordem decrescente por `qt_clin`.\n",
    "- Médicos que não atendem em nenhuma clínica também devem ser retornados."
   ]
  },
  {
   "cell_type": "code",
   "execution_count": 36,
   "id": "e3cd6379-1de0-4f24-9708-ba99f16143d4",
   "metadata": {},
   "outputs": [
    {
     "name": "stdout",
     "output_type": "stream",
     "text": [
      "Executando query:\n",
      "(2, 'Maria', 'Ferreira', 5)\n",
      "(8, 'Gabriel', 'Gomes', 3)\n",
      "(1, 'Pedro', 'Silva', 2)\n",
      "(10, 'Leonardo', 'Morais', 2)\n",
      "(4, 'José', 'Santos', 1)\n",
      "(11, 'Laura', 'Pereira', 1)\n",
      "(13, 'Gustavo', 'Simões', 1)\n",
      "(15, 'Vinicius', 'Fernandes', 1)\n",
      "(3, 'Ana', 'Oliveira', 0)\n",
      "(5, 'Lucas', 'Alves', 0)\n",
      "(6, 'Luiz', 'Souza', 0)\n",
      "(7, 'Ricardo', 'Pereira', 0)\n",
      "(9, 'Matheus', 'Moreira', 0)\n",
      "(12, 'Isabela', 'Carvalho', 0)\n",
      "(14, 'Lucas', 'Barbosa', 0)\n"
     ]
    }
   ],
   "source": [
    "sql_ex02 = '''\n",
    "SELECT m.id_medico, m.nome, m.sobrenome, count(DISTINCT c.id_clinica) as qt_clin FROM medico as m\n",
    "  LEFT JOIN medico_atende_clinica as mac ON mac.id_medico = m.id_medico\n",
    "  LEFT JOIN clinica as c ON mac.id_clinica = c.id_clinica\n",
    "  GROUP BY m.id_medico\n",
    "  ORDER BY qt_clin desc\n",
    "'''\n",
    "\n",
    "db(sql_ex02)"
   ]
  },
  {
   "cell_type": "code",
   "execution_count": 21,
   "id": "0974ab91-dd46-4317-a1bd-4c89f654b78e",
   "metadata": {},
   "outputs": [
    {
     "data": {
      "application/vnd.jupyter.widget-view+json": {
       "model_id": "cad17cfc0bbb4b1aa57d5635ee9941e0",
       "version_major": 2,
       "version_minor": 0
      },
      "text/plain": [
       "interactive(children=(Button(description='Enviar ex02', style=ButtonStyle()), Output()), _dom_classes=('widget…"
      ]
     },
     "metadata": {},
     "output_type": "display_data"
    }
   ],
   "source": [
    "ia.sender(answer='sql_ex02', task='ai_md_23_2', question='ex02', answer_type='pyvar')"
   ]
  },
  {
   "attachments": {},
   "cell_type": "markdown",
   "id": "f06273ad-a7a3-44d8-a735-444948f88ccf",
   "metadata": {},
   "source": [
    "**Exercício 3**: Foi levantada a necessidade de armazenar, para cada médico, em qual universidade e ano ele obteve a primeira graduação em medicina.\n",
    "\n",
    "Considere o diagrama atualizado:\n",
    "\n",
    "<img src=\"img/deer_clinpag_v2.png\">\n",
    "\n",
    "**Modificações**:\n",
    "- Foi adicionada uma nova tabela `universidade`.\n",
    "- A tabela `universidade` tem chave estrangeira para a tabela `cidade`.\n",
    "- A tabela `medico` passa a ter chave estrangeira para a tabela `universidade`, com campo indicando o id da universidade onde obteve a primeira graduação em medicina.\n",
    "\n",
    "**Atividade**: Construa a **DDL** para criação da tabela `universidade`.\n",
    "\n",
    "**Obs**:\n",
    "- Ignore a *constraint* de chave estrangeira para a tabela de `cidade`. Crie o campo `id_cidade` na tabela `universidade` mas não envie a constraint na query submetida ao servidor!\n",
    "- Caso a tabela exista, ela deve ser removida e recriada."
   ]
  },
  {
   "cell_type": "code",
   "execution_count": 53,
   "id": "dac38579-4dd5-4c12-b1d3-e2717c0f1821",
   "metadata": {},
   "outputs": [
    {
     "name": "stdout",
     "output_type": "stream",
     "text": [
      "Executando query:\n",
      "Executando query:\n"
     ]
    }
   ],
   "source": [
    "# Separando em dois comandos para não dar erro!\n",
    "sql_ex03_cmd1 = \"\"\"\n",
    "DROP TABLE IF EXISTS universidade;\n",
    "\"\"\"\n",
    "\n",
    "sql_ex03_cmd2 = \"\"\"\n",
    "CREATE TABLE IF NOT EXISTS universidade (\n",
    "  `id_universidade` INT NOT NULL PRIMARY KEY AUTO_INCREMENT,\n",
    "  `nome` VARCHAR(45) NOT NULL,\n",
    "  `ano_fundacao` INT,\n",
    "  `id_cidade` INT NOT NULL\n",
    ");\n",
    "\"\"\"\n",
    "\n",
    "sql_ex03 = f\"\"\"\n",
    "{sql_ex03_cmd1}\n",
    "{sql_ex03_cmd2}\n",
    "\"\"\"\n",
    "\n",
    "db(sql_ex03_cmd1)\n",
    "db(sql_ex03_cmd2)"
   ]
  },
  {
   "cell_type": "code",
   "execution_count": 43,
   "id": "12fe6bf4-4968-4a58-9477-5c2c734d6c80",
   "metadata": {
    "scrolled": true
   },
   "outputs": [
    {
     "data": {
      "application/vnd.jupyter.widget-view+json": {
       "model_id": "f780665e0bed4d4f80e32f7802e35c5c",
       "version_major": 2,
       "version_minor": 0
      },
      "text/plain": [
       "interactive(children=(Button(description='Enviar ex03', style=ButtonStyle()), Output()), _dom_classes=('widget…"
      ]
     },
     "metadata": {},
     "output_type": "display_data"
    }
   ],
   "source": [
    "ia.sender(answer='sql_ex03', task='ai_md_23_2', question='ex03', answer_type='pyvar')"
   ]
  },
  {
   "attachments": {},
   "cell_type": "markdown",
   "id": "b73d878a-2418-40b5-a561-788114a5faf3",
   "metadata": {},
   "source": [
    "**Exercício 4**: Considerando o *schema* atualizado no exercício anterior:\n",
    "\n",
    "<img src=\"img/deer_clinpag_v2.png\">\n",
    "\n",
    "**Atividade**: Crie uma query de **inserção** na tabela `universidade`.\n",
    "\n",
    "Deve ser inserido um registro onde:\n",
    "\n",
    "- O `id` da universidade deve ser `100`\n",
    "- Fundada em `2012`\n",
    "- Na cidade de `\"São Paulo\"`\n",
    "- Com nome de universidade `\"Academia de Medicina Muito Estranha\"`"
   ]
  },
  {
   "cell_type": "code",
   "execution_count": 57,
   "id": "a7f2c493-cd12-4dcc-a4cd-1106062d1238",
   "metadata": {},
   "outputs": [
    {
     "name": "stdout",
     "output_type": "stream",
     "text": [
      "Executando query:\n"
     ]
    }
   ],
   "source": [
    "sql_ex04 = '''\n",
    "INSERT INTO universidade (id_universidade, nome, ano_fundacao, id_cidade)\n",
    "VALUES (\n",
    "  100,\n",
    "  'Academia de Medicina Muito Estranha',\n",
    "  2012,\n",
    "  1\n",
    ")\n",
    "'''\n",
    "\n",
    "db(sql_ex04)"
   ]
  },
  {
   "cell_type": "code",
   "execution_count": 58,
   "id": "ba12eb31-6e9b-4c62-b66f-b7fa2412ff4c",
   "metadata": {
    "scrolled": true
   },
   "outputs": [
    {
     "data": {
      "application/vnd.jupyter.widget-view+json": {
       "model_id": "fbb1d3de3c4e441d8b8e92d0444f61b0",
       "version_major": 2,
       "version_minor": 0
      },
      "text/plain": [
       "interactive(children=(Button(description='Enviar ex04', style=ButtonStyle()), Output()), _dom_classes=('widget…"
      ]
     },
     "metadata": {},
     "output_type": "display_data"
    }
   ],
   "source": [
    "ia.sender(answer='sql_ex04', task='ai_md_23_2', question='ex04', answer_type='pyvar')"
   ]
  },
  {
   "attachments": {},
   "cell_type": "markdown",
   "id": "89f47e24-8ced-4b86-8c98-ee842ee7f0ba",
   "metadata": {},
   "source": [
    "**Exercício 5**: Crie uma query que, considerando as consultas de cada especialidade atendida pelo médico, retorne (nesta ordem):\n",
    "\n",
    "- Nome do médico\n",
    "- Sobrenome do médico\n",
    "- Nome da especialidade\n",
    "- Valor médio da consulta desta especialidade com este médico\n",
    "- Valor mínimo da consulta desta especialidade com este médico\n",
    "- Valor máximo da consulta desta especialidade com este médico\n",
    "\n",
    "**Obs**:\n",
    "- Retorne apenas as especialidades cujo valor médio das consultas seja acima de `300.0`.\n",
    "- Ordene de forma crescente por (nesta ordem): nome do médico, sobrenome do médico e nome da especialidade.\n",
    "- As colunas calculadas devem se chamar (nesta ordem):  `valor_medio`, `valor_min` e `valor_max`."
   ]
  },
  {
   "cell_type": "code",
   "execution_count": 117,
   "id": "8952c62b-c3c6-4ea5-9c4c-d17171606739",
   "metadata": {},
   "outputs": [
    {
     "name": "stdout",
     "output_type": "stream",
     "text": [
      "Executando query:\n",
      "('José', 'Santos', 'Psiquiatria', Decimal('585.000000'), Decimal('270.00'), Decimal('900.00'))\n",
      "('Maria', 'Ferreira', 'Oftalmologia', Decimal('941.666667'), Decimal('250.00'), Decimal('1800.00'))\n",
      "('Pedro', 'Silva', 'Medicina de Emergência', Decimal('312.000000'), Decimal('100.00'), Decimal('625.00'))\n",
      "('Pedro', 'Silva', 'Pediatria', Decimal('676.666667'), Decimal('150.00'), Decimal('980.00'))\n",
      "('Pedro', 'Silva', 'Psiquiatria', Decimal('560.000000'), Decimal('150.00'), Decimal('940.00'))\n"
     ]
    }
   ],
   "source": [
    "sql_ex05 = '''\n",
    "SELECT m.nome, m.sobrenome, e.nome, AVG(c.valor) as valor_medio, MIN(c.valor) as valor_min, MAX(c.valor) as valor_max\n",
    "  FROM medico as m\n",
    "    INNER JOIN consulta c ON c.id_medico = m.id_medico\n",
    "    INNER JOIN especialidade e ON e.id_especialidade = c.id_especialidade\n",
    "  GROUP BY c.id_especialidade, m.id_medico\n",
    "  HAVING valor_medio > 300\n",
    "  ORDER BY m.nome ASC, m.sobrenome ASC, e.nome ASC\n",
    "'''\n",
    "\n",
    "db(sql_ex05)"
   ]
  },
  {
   "cell_type": "code",
   "execution_count": 100,
   "id": "b434bb63-68b0-4ae4-b313-6cedc6e83143",
   "metadata": {
    "scrolled": true
   },
   "outputs": [
    {
     "data": {
      "application/vnd.jupyter.widget-view+json": {
       "model_id": "54218573172944879b1c2b5d1331de78",
       "version_major": 2,
       "version_minor": 0
      },
      "text/plain": [
       "interactive(children=(Button(description='Enviar ex05', style=ButtonStyle()), Output()), _dom_classes=('widget…"
      ]
     },
     "metadata": {},
     "output_type": "display_data"
    }
   ],
   "source": [
    "ia.sender(answer='sql_ex05', task='ai_md_23_2', question='ex05', answer_type='pyvar')"
   ]
  },
  {
   "attachments": {},
   "cell_type": "markdown",
   "id": "a532bc74-1421-46da-8e3c-8b4c0d989ada",
   "metadata": {},
   "source": [
    "**Exercício 6**: Sabemos que devido a indisponibilidade de serviços de saúde, muitas pessoas precisam se deslocar para cidades vizinhas, ou até para outros estados para buscar atendimento.\n",
    "\n",
    "Uma consultoria foi contratada para analisar os dados das consultas e propor soluções para o problema, diminuindo longos deslocamentos.\n",
    "\n",
    "Entretanto, há um receio em disponibilizar os dados completos dos indivíduos, uma vez que são dados sensíveis.\n",
    "\n",
    "Assim, você deve criar uma **view** chamada `view_paciente_consulta_outra_cidade` que contenha informações sobre todas as consultas onde o paciente teve que sair de sua cidade para fazer a consulta.\n",
    "\n",
    "A view deve conter:\n",
    "- Nome completo do paciente em hash SHA 256 (alias `hash_paciente`).\n",
    "- Nome da cidade do paciente (alias `cidade_paciente`).\n",
    "- Nome da cidade da clínica (alias `cidade_clinica`).\n",
    "- Valor da consulta.\n",
    "\n",
    "**Obs**:\n",
    "- Considere que o nome completo é a concatenação do **nome** + **um espaço** + **sobrenome**.\n",
    "- Ordene por (nesta ordem): `cidade_paciente`, `cidade_clinica`, `hash_paciente`.\n",
    "- Note que existem campos `id_cidade` para identificar tanto a cidade do paciente (na tabela `paciente`) quanto a cidade da clínica onde ocorre o atendimento (tabela `clinica`).\n",
    "- Neste exercício você não precisa se preocupar com permissões ou criação de usuários, apenas crie a view!"
   ]
  },
  {
   "cell_type": "code",
   "execution_count": 184,
   "id": "146fddc6-16b6-4313-8453-b9b007034bbf",
   "metadata": {},
   "outputs": [
    {
     "name": "stdout",
     "output_type": "stream",
     "text": [
      "Executando query:\n"
     ]
    }
   ],
   "source": [
    "sql_ex06 = '''\n",
    "CREATE VIEW view_paciente_consulta_outra_cidade AS\n",
    "  SELECT \n",
    "  SHA2(CONCAT(p.nome, \" \", p.sobrenome), 256) as hash_paciente,\n",
    "  c.nome as cidade_paciente,\n",
    "  cidade_clinica.nome as cidade_clinica,\n",
    "  consulta.valor\n",
    "  FROM paciente as p\n",
    "    LEFT JOIN cidade c ON c.id_cidade = p.id_cidade\n",
    "    LEFT JOIN consulta ON consulta.id_paciente = p.id_paciente\n",
    "    LEFT JOIN clinica ON clinica.id_clinica = consulta.id_clinica\n",
    "    LEFT JOIN cidade cidade_clinica ON cidade_clinica.id_cidade = clinica.id_cidade\n",
    "    HAVING c.nome != cidade_clinica.nome\n",
    "  ORDER BY cidade_paciente ASC, cidade_clinica ASC, hash_paciente ASC, valor ASC\n",
    "'''\n",
    "\n",
    "db(sql_ex06)"
   ]
  },
  {
   "cell_type": "code",
   "execution_count": 174,
   "id": "f67724a5-197a-484f-9580-44616390f3f6",
   "metadata": {
    "scrolled": true
   },
   "outputs": [
    {
     "data": {
      "application/vnd.jupyter.widget-view+json": {
       "model_id": "44374fa6066443eb8445d247c72633af",
       "version_major": 2,
       "version_minor": 0
      },
      "text/plain": [
       "interactive(children=(Button(description='Enviar ex06', style=ButtonStyle()), Output()), _dom_classes=('widget…"
      ]
     },
     "metadata": {},
     "output_type": "display_data"
    }
   ],
   "source": [
    "ia.sender(answer='sql_ex06', task='ai_md_23_2', question='ex06', answer_type='pyvar')"
   ]
  },
  {
   "attachments": {},
   "cell_type": "markdown",
   "id": "fdb3ca75",
   "metadata": {},
   "source": [
    "## Parte 2 - Campeonato!\n",
    "\n",
    "Por conta do grande aumento do interesse dos alunos em jogos de quebra-cabeças com o objetivo de encaixar blocos, a Atlética resolveu organizar o primeiro campeonato Insper de Montagem de Blocos. Para isso, a Atlética precisa de um sistema para gerenciar as inscrições dos alunos e a pontuação de cada um. Você ficou responsável por desenvolver o banco de dados que será utilizado para armazenar as informações do campeonato.\n",
    "\n",
    "Em conversas com o cliente, você levantou as seguintes informações sobre o domínio de negócios:\n",
    "\n",
    "- É necessário manter um cadastro dos alunos do Insper, contendo informações suficientes para identificá-los e também para entrar em contato com eles. Além disso, cada aluno pode escolher um apelido para ser utilizado no campeonato que deve ser único.\n",
    "- Neste campeonato haverão duas modalidades: Individual e Duplas. Os alunos podem se inscrever nas duas modalidades ao mesmo tempo.\n",
    "- É necessário saber quando um aluno se inscreveu em uma determinada modalidade e se ele pagou ou não a taxa de inscrição.\n",
    "- Cada partida é disputada entre dois jogadores ou duas duplas. É necessário manter um cadastro dos jogadores que participaram de cada partida, indicando se eles ganharam ou perderam a partida.\n",
    "\n",
    "Utilize estas informações para propor soluções adequadas para os próximos exercícios.\n",
    "\n",
    "**Obs**: Esta parte da avaliação vale **4 pontos** na nota da prova:\n",
    "- 1.50 para o exercício 7\n",
    "- 0.75 para o exercício 8\n",
    "- 0.75 para o exercício 9\n",
    "- 1.00 para o exercício 10"
   ]
  },
  {
   "attachments": {},
   "cell_type": "markdown",
   "id": "4f09a3aa",
   "metadata": {},
   "source": [
    "**Exercício 7**: Desenhe o diagrama do modelo relacional deste problema (pode ser o feito no workbench). Não esqueça de indicar claramente os tipos, chaves primárias, chaves estrangeiras, e a cardinalidade dos relacionamentos.\n",
    "\n",
    "**Obs:** Salve a imagem do diagrama na pasta `img`. Edite na resposta o caminho para a imagem!"
   ]
  },
  {
   "attachments": {},
   "cell_type": "markdown",
   "id": "779f8ef4",
   "metadata": {},
   "source": [
    "<div class=\"alert alert-success\">\n",
    "    \n",
    "Edite na resposta o caminho para a imagem!\n",
    "    \n",
    "<img src=\"img/campeonato_datagrip_diagram.png\">\n",
    "\n",
    "</div>"
   ]
  },
  {
   "attachments": {},
   "cell_type": "markdown",
   "id": "afba7943",
   "metadata": {},
   "source": [
    "**Opcional**: caso julgue necessário, utilize o bloco abaixo para justificar decisões tomadas no desenho do diagrama."
   ]
  },
  {
   "attachments": {},
   "cell_type": "markdown",
   "id": "e6770762",
   "metadata": {},
   "source": [
    "<div class=\"alert alert-success\">\n",
    "    \n",
    "Na tabela \"partidas\" no caso de dupla, serão preenchidos os jogadores de 1 a 4, no caso de individual serão preenchidos apenas os jogadores 1 e 3.\n",
    "\n",
    "- Jogador 1 (rival do jogador 3 ou rival dos jogadores 3 e 4)\n",
    "- Jogador 2 (dupla do jogador 1 se existir)\n",
    "- Jogador 3 (rival do jogador 1 ou rival dos jogadores 1 e 2)\n",
    "- Jogador 4 (dupla do jogador 3 se existir)\n",
    "\n",
    "</div>"
   ]
  },
  {
   "attachments": {},
   "cell_type": "markdown",
   "id": "f513cf32",
   "metadata": {},
   "source": [
    "**Exercício 8**: Quais entidades você julgou serem necessárias para resolver o problema? Qual o tipo dos relacionamentos entre elas (um-para-muitos, muitos-para-muitos)? Justifique sua resposta."
   ]
  },
  {
   "attachments": {},
   "cell_type": "markdown",
   "id": "743ebdb8",
   "metadata": {},
   "source": [
    "<div class=\"alert alert-success\">\n",
    "    \n",
    "Entidades: \n",
    "- Alunos\n",
    "- Partidas\n",
    "- Modalidades\n",
    "- Alunos-Modalidades\n",
    "- Inscricoes\n",
    "\n",
    "Relacionamentos:\n",
    "\n",
    "1. alunos -> inscricoes : um-para-um\n",
    "2. alunos -> alunos_modalidades : muitos-para-muitos\n",
    "3. alunos -> partidas : muitos-para-muitos\n",
    "\n",
    "</div>"
   ]
  },
  {
   "attachments": {},
   "cell_type": "markdown",
   "id": "e2f02a4b",
   "metadata": {},
   "source": [
    "**Exercício 9**: Em quais colunas você criaria índices? Por que você criaria esses índices?"
   ]
  },
  {
   "attachments": {},
   "cell_type": "markdown",
   "id": "e8d7c037",
   "metadata": {},
   "source": [
    "<div class=\"alert alert-success\">\n",
    "    \n",
    "Cria índices nas seguintes tabelas e colunas:\n",
    "\n",
    "1. Tabela alunos\n",
    "   - Índice em apelido - para ficar fácil buscar por apelidos\n",
    "   - Índice em matrícula - para buscar por matrícula\n",
    "---\n",
    "2. Tabela partidas\n",
    "   - Índice de jogador_1, jogador_2, jogador_3, jogador_4 - assim conseguimos saber quem jogou com quem e quais partidas\n",
    "\n",
    "---\n",
    "3. Tabela modalidades\n",
    "   - Índice de id_aluno, id_modalidade - para buscar por todos alunos em uma modalidade\n",
    "</div>"
   ]
  },
  {
   "attachments": {},
   "cell_type": "markdown",
   "id": "e72905f3",
   "metadata": {},
   "source": [
    "**Exercício 10**: Dos relacionamentos descritos, quais destes são identificadores e quais são não-identificadores? Por que você tomou essa decisão?"
   ]
  },
  {
   "attachments": {},
   "cell_type": "markdown",
   "id": "fc7bc2d7",
   "metadata": {},
   "source": [
    "<div class=\"alert alert-success\">\n",
    "\n",
    "Nesse design nenhum relacionamento é identificador, todos são **não identificadores**. Isso porque toda tabela possui seu próprio ID único como PK, e nenhuma dessas PK é FK para outra tabela. \n",
    "\n",
    "No caso do ID ser um inteiro, isso até pode ocorrer por coincidência, exemplo o id ser 1 e a chave estrangeira também. Porém expandindo para um caso em que esse id seria um UUID, por exemplo, a chave primária de uma entidade nunca (ou quase nunca a não ser que haja colisão de UUIDs) vai ser chave estrangeira de outra.\n",
    "\n",
    "</div>"
   ]
  },
  {
   "attachments": {},
   "cell_type": "markdown",
   "id": "c0871f09",
   "metadata": {},
   "source": [
    "## Entrega!\n",
    "\n",
    "É hora de entregar. Faça um **zip** do notebook + imagens chamado `ai_megadados.zip` e submeta no Blackboard!\n",
    "\n",
    "**Obs**:\n",
    "- `zip`, não use `rar`!\n",
    "- Não precisa entregar os scripts fornecidos pelo professor (pasta scripts)"
   ]
  }
 ],
 "metadata": {
  "kernelspec": {
   "display_name": "Python 3 (ipykernel)",
   "language": "python",
   "name": "python3"
  },
  "language_info": {
   "codemirror_mode": {
    "name": "ipython",
    "version": 3
   },
   "file_extension": ".py",
   "mimetype": "text/x-python",
   "name": "python",
   "nbconvert_exporter": "python",
   "pygments_lexer": "ipython3",
   "version": "3.11.5"
  }
 },
 "nbformat": 4,
 "nbformat_minor": 5
}
